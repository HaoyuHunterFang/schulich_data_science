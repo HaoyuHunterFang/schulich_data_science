{
 "cells": [
  {
   "cell_type": "code",
   "execution_count": 1,
   "metadata": {},
   "outputs": [],
   "source": [
    "import numpy as np\n",
    "import pandas as pd\n",
    "from scipy import stats\n",
    "import seaborn as sns"
   ]
  },
  {
   "cell_type": "code",
   "execution_count": 2,
   "metadata": {},
   "outputs": [],
   "source": [
    "df = pd.read_csv('/Users/houhiroshisakai/Desktop/Schulich/MBAN 6110 S - Data Science I/new_data.csv')"
   ]
  },
  {
   "cell_type": "code",
   "execution_count": 3,
   "metadata": {},
   "outputs": [
    {
     "name": "stdout",
     "output_type": "stream",
     "text": [
      "<class 'pandas.core.frame.DataFrame'>\n",
      "RangeIndex: 10000000 entries, 0 to 9999999\n",
      "Data columns (total 10 columns):\n",
      " #   Column         Dtype  \n",
      "---  ------         -----  \n",
      " 0   Unnamed: 0     int64  \n",
      " 1   event_time     object \n",
      " 2   event_type     object \n",
      " 3   product_id     int64  \n",
      " 4   category_id    int64  \n",
      " 5   category_code  object \n",
      " 6   brand          object \n",
      " 7   price          float64\n",
      " 8   user_id        int64  \n",
      " 9   user_session   object \n",
      "dtypes: float64(1), int64(4), object(5)\n",
      "memory usage: 762.9+ MB\n"
     ]
    }
   ],
   "source": [
    "df.info()"
   ]
  },
  {
   "cell_type": "code",
   "execution_count": 4,
   "metadata": {},
   "outputs": [
    {
     "data": {
      "text/html": [
       "<div>\n",
       "<style scoped>\n",
       "    .dataframe tbody tr th:only-of-type {\n",
       "        vertical-align: middle;\n",
       "    }\n",
       "\n",
       "    .dataframe tbody tr th {\n",
       "        vertical-align: top;\n",
       "    }\n",
       "\n",
       "    .dataframe thead th {\n",
       "        text-align: right;\n",
       "    }\n",
       "</style>\n",
       "<table border=\"1\" class=\"dataframe\">\n",
       "  <thead>\n",
       "    <tr style=\"text-align: right;\">\n",
       "      <th></th>\n",
       "      <th>Unnamed: 0</th>\n",
       "      <th>product_id</th>\n",
       "      <th>category_id</th>\n",
       "      <th>price</th>\n",
       "      <th>user_id</th>\n",
       "    </tr>\n",
       "  </thead>\n",
       "  <tbody>\n",
       "    <tr>\n",
       "      <th>count</th>\n",
       "      <td>1.000000e+07</td>\n",
       "      <td>1.000000e+07</td>\n",
       "      <td>1.000000e+07</td>\n",
       "      <td>1.000000e+07</td>\n",
       "      <td>1.000000e+07</td>\n",
       "    </tr>\n",
       "    <tr>\n",
       "      <th>mean</th>\n",
       "      <td>5.000000e+06</td>\n",
       "      <td>1.100008e+07</td>\n",
       "      <td>2.057828e+18</td>\n",
       "      <td>2.925741e+02</td>\n",
       "      <td>5.354292e+08</td>\n",
       "    </tr>\n",
       "    <tr>\n",
       "      <th>std</th>\n",
       "      <td>2.886751e+06</td>\n",
       "      <td>1.228346e+07</td>\n",
       "      <td>1.943274e+16</td>\n",
       "      <td>3.538111e+02</td>\n",
       "      <td>2.037214e+07</td>\n",
       "    </tr>\n",
       "    <tr>\n",
       "      <th>min</th>\n",
       "      <td>0.000000e+00</td>\n",
       "      <td>1.000365e+06</td>\n",
       "      <td>2.053014e+18</td>\n",
       "      <td>0.000000e+00</td>\n",
       "      <td>1.030022e+07</td>\n",
       "    </tr>\n",
       "    <tr>\n",
       "      <th>25%</th>\n",
       "      <td>2.500000e+06</td>\n",
       "      <td>1.005252e+06</td>\n",
       "      <td>2.053014e+18</td>\n",
       "      <td>6.667000e+01</td>\n",
       "      <td>5.159950e+08</td>\n",
       "    </tr>\n",
       "    <tr>\n",
       "      <th>50%</th>\n",
       "      <td>5.000000e+06</td>\n",
       "      <td>5.100722e+06</td>\n",
       "      <td>2.053014e+18</td>\n",
       "      <td>1.653100e+02</td>\n",
       "      <td>5.306267e+08</td>\n",
       "    </tr>\n",
       "    <tr>\n",
       "      <th>75%</th>\n",
       "      <td>7.499999e+06</td>\n",
       "      <td>1.640001e+07</td>\n",
       "      <td>2.053014e+18</td>\n",
       "      <td>3.654600e+02</td>\n",
       "      <td>5.548916e+08</td>\n",
       "    </tr>\n",
       "    <tr>\n",
       "      <th>max</th>\n",
       "      <td>9.999999e+06</td>\n",
       "      <td>6.210003e+07</td>\n",
       "      <td>2.180737e+18</td>\n",
       "      <td>2.574070e+03</td>\n",
       "      <td>5.684226e+08</td>\n",
       "    </tr>\n",
       "  </tbody>\n",
       "</table>\n",
       "</div>"
      ],
      "text/plain": [
       "         Unnamed: 0    product_id   category_id         price       user_id\n",
       "count  1.000000e+07  1.000000e+07  1.000000e+07  1.000000e+07  1.000000e+07\n",
       "mean   5.000000e+06  1.100008e+07  2.057828e+18  2.925741e+02  5.354292e+08\n",
       "std    2.886751e+06  1.228346e+07  1.943274e+16  3.538111e+02  2.037214e+07\n",
       "min    0.000000e+00  1.000365e+06  2.053014e+18  0.000000e+00  1.030022e+07\n",
       "25%    2.500000e+06  1.005252e+06  2.053014e+18  6.667000e+01  5.159950e+08\n",
       "50%    5.000000e+06  5.100722e+06  2.053014e+18  1.653100e+02  5.306267e+08\n",
       "75%    7.499999e+06  1.640001e+07  2.053014e+18  3.654600e+02  5.548916e+08\n",
       "max    9.999999e+06  6.210003e+07  2.180737e+18  2.574070e+03  5.684226e+08"
      ]
     },
     "execution_count": 4,
     "metadata": {},
     "output_type": "execute_result"
    }
   ],
   "source": [
    "df.describe()"
   ]
  },
  {
   "cell_type": "code",
   "execution_count": 10,
   "metadata": {},
   "outputs": [],
   "source": [
    "df_samsung = df_grouped.get_group('samsung')"
   ]
  },
  {
   "cell_type": "code",
   "execution_count": 22,
   "metadata": {},
   "outputs": [],
   "source": [
    "apple = df[(df['brand'] == 'apple')&(df['event_type'] == 'purchase')]['price']\n",
    "samsung = df[(df['brand'] == 'samsung')&(df['event_type'] == 'purchase')]['price']"
   ]
  },
  {
   "cell_type": "code",
   "execution_count": 23,
   "metadata": {},
   "outputs": [],
   "source": [
    "t_stat, p_val = stats.ttest_ind(apple, samsung)"
   ]
  },
  {
   "cell_type": "code",
   "execution_count": 25,
   "metadata": {},
   "outputs": [
    {
     "name": "stdout",
     "output_type": "stream",
     "text": [
      "T-statistic: 191.6586077359348\n",
      "P-value: 0.0\n"
     ]
    }
   ],
   "source": [
    "print(f\"T-statistic: {t_stat}\")\n",
    "print(f\"P-value: {p_val}\")"
   ]
  },
  {
   "cell_type": "code",
   "execution_count": null,
   "metadata": {},
   "outputs": [],
   "source": []
  }
 ],
 "metadata": {
  "kernelspec": {
   "display_name": "Python 3",
   "language": "python",
   "name": "python3"
  },
  "language_info": {
   "codemirror_mode": {
    "name": "ipython",
    "version": 3
   },
   "file_extension": ".py",
   "mimetype": "text/x-python",
   "name": "python",
   "nbconvert_exporter": "python",
   "pygments_lexer": "ipython3",
   "version": "3.9.6"
  },
  "orig_nbformat": 4
 },
 "nbformat": 4,
 "nbformat_minor": 2
}
