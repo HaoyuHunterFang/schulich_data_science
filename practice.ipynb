{
 "cells": [
  {
   "cell_type": "code",
   "execution_count": 1,
   "metadata": {},
   "outputs": [
    {
     "name": "stdout",
     "output_type": "stream",
     "text": [
      "[4, 5]\n"
     ]
    }
   ],
   "source": [
    "def subsetA(arr):\n",
    "    # Sort the array in decreasing order\n",
    "    arr.sort(reverse=True)\n",
    "    \n",
    "    # Calculate total sum of the array\n",
    "    total_sum = sum(arr)\n",
    "    \n",
    "    # Initialize subset A and its sum\n",
    "    A = []\n",
    "    sum_A = 0\n",
    "    \n",
    "    # Add elements to subset A until its sum becomes greater than half the total sum\n",
    "    for num in arr:\n",
    "        A.append(num)\n",
    "        sum_A += num\n",
    "        if sum_A > total_sum / 2:\n",
    "            break\n",
    "            \n",
    "    # Sort subset A in increasing order and return\n",
    "    A.sort()\n",
    "    return A\n",
    "\n",
    "if __name__ == '__main__':\n",
    "    arr = [5,3,2,4,1,2]\n",
    "    result = subsetA(arr)\n",
    "    print(result)  # Expected output: [4,5]"
   ]
  },
  {
   "cell_type": "code",
   "execution_count": 2,
   "metadata": {},
   "outputs": [
    {
     "ename": "NameError",
     "evalue": "name 'np' is not defined",
     "output_type": "error",
     "traceback": [
      "\u001b[0;31m---------------------------------------------------------------------------\u001b[0m",
      "\u001b[0;31mNameError\u001b[0m                                 Traceback (most recent call last)",
      "Cell \u001b[0;32mIn[2], line 2\u001b[0m\n\u001b[1;32m      1\u001b[0m \u001b[39m# Aggregate predictions\u001b[39;00m\n\u001b[0;32m----> 2\u001b[0m predictions \u001b[39m=\u001b[39m np\u001b[39m.\u001b[39mzeros((\u001b[39mlen\u001b[39m(X_test), n_trees))\n\u001b[1;32m      3\u001b[0m \u001b[39mfor\u001b[39;00m tree_index, tree \u001b[39min\u001b[39;00m \u001b[39menumerate\u001b[39m(trees):\n\u001b[1;32m      4\u001b[0m     predictions[:, tree_index] \u001b[39m=\u001b[39m tree\u001b[39m.\u001b[39mpredict(X_test)\n",
      "\u001b[0;31mNameError\u001b[0m: name 'np' is not defined"
     ]
    }
   ],
   "source": [
    "import numpy as np\n",
    "# Aggregate predictions\n",
    "predictions = np.zeros((len(X_test), n_trees))\n",
    "for tree_index, tree in enumerate(trees):\n",
    "    predictions[:, tree_index] = tree.predict(X_test)\n"
   ]
  },
  {
   "cell_type": "code",
   "execution_count": null,
   "metadata": {},
   "outputs": [],
   "source": []
  }
 ],
 "metadata": {
  "kernelspec": {
   "display_name": "Python 3",
   "language": "python",
   "name": "python3"
  },
  "language_info": {
   "codemirror_mode": {
    "name": "ipython",
    "version": 3
   },
   "file_extension": ".py",
   "mimetype": "text/x-python",
   "name": "python",
   "nbconvert_exporter": "python",
   "pygments_lexer": "ipython3",
   "version": "3.9.6"
  },
  "orig_nbformat": 4
 },
 "nbformat": 4,
 "nbformat_minor": 2
}
