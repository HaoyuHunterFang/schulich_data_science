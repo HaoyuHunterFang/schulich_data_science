{
  "cells": [
    {
      "cell_type": "markdown",
      "metadata": {
        "id": "view-in-github",
        "colab_type": "text"
      },
      "source": [
        "<a href=\"https://colab.research.google.com/github/HaoyuHunterFang/schulich_data_science/blob/main/Assignment3.ipynb\" target=\"_parent\"><img src=\"https://colab.research.google.com/assets/colab-badge.svg\" alt=\"Open In Colab\"/></a>"
      ]
    },
    {
      "cell_type": "code",
      "execution_count": 1,
      "metadata": {
        "id": "0ak7of5Ipou3"
      },
      "outputs": [],
      "source": [
        "import tensorflow as tf\n",
        "import tensorflow_datasets as tfds"
      ]
    },
    {
      "cell_type": "code",
      "execution_count": 2,
      "metadata": {
        "id": "7WbKhIOqp0bv"
      },
      "outputs": [],
      "source": [
        "(ds_train, ds_test), ds_info = tfds.load(\n",
        "    'stanford_dogs',\n",
        "    split = ['train','test'],\n",
        "    with_info = True,\n",
        "    as_supervised = True\n",
        ")\n",
        "\n",
        "ds_train = ds_train.take(int(0.8*len(ds_train)))\n",
        "ds_validation = ds_train.skip(int(0.8*len(ds_train)))"
      ]
    },
    {
      "cell_type": "code",
      "source": [
        "#Checking the size of train and test datasets\n",
        "print(ds_info.splits)"
      ],
      "metadata": {
        "colab": {
          "base_uri": "https://localhost:8080/"
        },
        "id": "bfmbb0iMc843",
        "outputId": "d8cc8c67-076c-4daa-86af-f20de5dd9691"
      },
      "execution_count": 3,
      "outputs": [
        {
          "output_type": "stream",
          "name": "stdout",
          "text": [
            "{'train': <SplitInfo num_examples=12000, num_shards=4>, 'test': <SplitInfo num_examples=8580, num_shards=4>}\n"
          ]
        }
      ]
    },
    {
      "cell_type": "code",
      "execution_count": 4,
      "metadata": {
        "id": "tWuelj_EICKW"
      },
      "outputs": [],
      "source": [
        "def preprocess(image, label):\n",
        "  image = tf.image.resize(image, (224,224))\n",
        "  image = tf.cast(image, tf.float32) / 255.0\n",
        "  label = tf.one_hot(label, depth = ds_info.features['label'].num_classes)\n",
        "  return image, label\n",
        "\n",
        "ds_train = ds_train.map(preprocess).batch(32).prefetch(tf.data.experimental.AUTOTUNE)\n",
        "ds_validation = ds_validation.map(preprocess).batch(32).prefetch(tf.data.experimental.AUTOTUNE)\n",
        "ds_test = ds_test.map(preprocess).batch(32).prefetch(tf.data.experimental.AUTOTUNE)"
      ]
    },
    {
      "cell_type": "code",
      "execution_count": 5,
      "metadata": {
        "id": "Kr3QHcN6Ci_N"
      },
      "outputs": [],
      "source": [
        "# custom model\n",
        "\n",
        "custom_model = tf.keras.Sequential([\n",
        "    #32 is Random no\n",
        "    tf.keras.layers.Conv2D(32,(3,3), activation='relu', input_shape = (224,224,3)),\n",
        "    tf.keras.layers.MaxPooling2D(2,2),\n",
        "    tf.keras.layers.Conv2D(64, (3,3), activation = 'relu'),\n",
        "    tf.keras.layers.MaxPooling2D(2,2),\n",
        "    tf.keras.layers.Conv2D(128, (3,3),activation = 'relu'),\n",
        "    tf.keras.layers.Flatten(),\n",
        "    tf.keras.layers.Dense(512, activation = 'relu'),\n",
        "    tf.keras.layers.Dense(ds_info.features['label'].num_classes, activation = 'softmax')\n",
        "])\n",
        "\n",
        "custom_model.compile(optimizer='adam',\n",
        "              loss='categorical_crossentropy',\n",
        "              metrics = ['accuracy'])"
      ]
    },
    {
      "cell_type": "markdown",
      "source": [
        "# New Section"
      ],
      "metadata": {
        "id": "b1Ix6PDOM1Ml"
      }
    },
    {
      "cell_type": "code",
      "execution_count": 6,
      "metadata": {
        "colab": {
          "base_uri": "https://localhost:8080/"
        },
        "id": "gEh-wpqFDtDZ",
        "outputId": "91c639b9-3d6b-4c5d-a42d-bc524d893c94"
      },
      "outputs": [
        {
          "output_type": "stream",
          "name": "stdout",
          "text": [
            "Model: \"sequential\"\n",
            "_________________________________________________________________\n",
            " Layer (type)                Output Shape              Param #   \n",
            "=================================================================\n",
            " conv2d (Conv2D)             (None, 222, 222, 32)      896       \n",
            "                                                                 \n",
            " max_pooling2d (MaxPooling2  (None, 111, 111, 32)      0         \n",
            " D)                                                              \n",
            "                                                                 \n",
            " conv2d_1 (Conv2D)           (None, 109, 109, 64)      18496     \n",
            "                                                                 \n",
            " max_pooling2d_1 (MaxPoolin  (None, 54, 54, 64)        0         \n",
            " g2D)                                                            \n",
            "                                                                 \n",
            " conv2d_2 (Conv2D)           (None, 52, 52, 128)       73856     \n",
            "                                                                 \n",
            " flatten (Flatten)           (None, 346112)            0         \n",
            "                                                                 \n",
            " dense (Dense)               (None, 512)               177209856 \n",
            "                                                                 \n",
            " dense_1 (Dense)             (None, 120)               61560     \n",
            "                                                                 \n",
            "=================================================================\n",
            "Total params: 177364664 (676.59 MB)\n",
            "Trainable params: 177364664 (676.59 MB)\n",
            "Non-trainable params: 0 (0.00 Byte)\n",
            "_________________________________________________________________\n"
          ]
        }
      ],
      "source": [
        "custom_model.summary()"
      ]
    },
    {
      "cell_type": "code",
      "execution_count": null,
      "metadata": {
        "colab": {
          "base_uri": "https://localhost:8080/"
        },
        "id": "58BID95VDx00",
        "outputId": "163f611e-5d48-4487-f324-36013e2963c8"
      },
      "outputs": [
        {
          "output_type": "stream",
          "name": "stdout",
          "text": [
            "Epoch 1/10\n",
            "300/300 [==============================] - 53s 125ms/step - loss: 4.8686 - accuracy: 0.0083 - val_loss: 4.7564 - val_accuracy: 0.0833\n",
            "Epoch 2/10\n",
            "300/300 [==============================] - 39s 129ms/step - loss: 4.7080 - accuracy: 0.0214 - val_loss: 4.2782 - val_accuracy: 0.2073\n",
            "Epoch 3/10\n",
            "300/300 [==============================] - 38s 126ms/step - loss: 3.7535 - accuracy: 0.2099 - val_loss: 2.1529 - val_accuracy: 0.6724\n",
            "Epoch 4/10\n",
            "300/300 [==============================] - 36s 119ms/step - loss: 2.3039 - accuracy: 0.5215 - val_loss: 0.9376 - val_accuracy: 0.7974\n",
            "Epoch 5/10\n",
            " 58/300 [====>.........................] - ETA: 21s - loss: 1.8126 - accuracy: 0.6374"
          ]
        }
      ],
      "source": [
        "custom_model_history = custom_model.fit(\n",
        "    ds_train,\n",
        "    epochs = 10,\n",
        "    validation_data = ds_validation,\n",
        "    batch_size = 64\n",
        ")"
      ]
    },
    {
      "cell_type": "code",
      "source": [
        "test_loss, test_accuracy = custom_model.evaluate(ds_test)\n",
        "print(f\"Test Accuracy: {test_accuracy}\")"
      ],
      "metadata": {
        "id": "VoOsOVISv67A"
      },
      "execution_count": null,
      "outputs": []
    },
    {
      "cell_type": "code",
      "execution_count": null,
      "metadata": {
        "id": "LpVrnQHXEEA3"
      },
      "outputs": [],
      "source": [
        "def augment(image1, label1):\n",
        "    image1 = tf.image.random_flip_left_right(image1)\n",
        "    image1 = tf.image.random_brightness(image1, max_delta = 0.1)\n",
        "    image1 = tf.image.random_contrast(image1,lower=0.8,upper=1.2)\n",
        "    image1 = tf.image.random_saturation(image1,lower = 0.5, upper = 1.5)\n",
        "    image1 = tf.image.random_hue(image1,max_delta=0.2)\n",
        "    image1 = tf.image.random_flip_up_down(image1)\n",
        "    label1 = tf.one_hot(label1, depth = ds_info.features['label'].num_classes)\n",
        "    return image1, label1"
      ]
    },
    {
      "cell_type": "code",
      "source": [
        "(ds_train_1, ds_test_1), ds_info_1 = tfds.load(\n",
        "    'stanford_dogs',\n",
        "    split = ['train','test'],\n",
        "    with_info = True,\n",
        "    as_supervised = True\n",
        ")\n",
        "\n",
        "ds_train_1 = ds_train_1.take(int(0.8*len(ds_train_1)))\n",
        "ds_validation_1 = ds_train_1.skip(int(0.8*len(ds_train_1)))"
      ],
      "metadata": {
        "id": "T6Y2KHECw2_9"
      },
      "execution_count": null,
      "outputs": []
    },
    {
      "cell_type": "code",
      "source": [
        "ds_train_1 = ds_train_1.map(augment)\n",
        "\n",
        "AUTOTUNE = tf.data.experimental.AUTOTUNE\n",
        "ds_train_1 = ds_train.cache().shuffle(1000).batch(64).prefetch(buffer_size=AUTOTUNE)\n",
        "ds_validation_1 = ds_validation.batch(64).prefetch(buffer_size=AUTOTUNE)"
      ],
      "metadata": {
        "id": "vlDjEXECwiZJ"
      },
      "execution_count": null,
      "outputs": []
    },
    {
      "cell_type": "code",
      "source": [
        "custom_model.fit(\n",
        "    ds_train_1,\n",
        "    epochs=20,\n",
        "    validation_data=ds_validation_1,\n",
        "    callbacks = tf.keras.callbacks.EarlyStopping(patience=5, monitor='val_loss', restore_best_weights=True)\n",
        ")"
      ],
      "metadata": {
        "id": "ZX4XliS2wtrK"
      },
      "execution_count": null,
      "outputs": []
    },
    {
      "cell_type": "code",
      "source": [],
      "metadata": {
        "id": "AUB44aWsyJQU"
      },
      "execution_count": null,
      "outputs": []
    }
  ],
  "metadata": {
    "colab": {
      "provenance": [],
      "toc_visible": true,
      "gpuType": "T4",
      "authorship_tag": "ABX9TyPyvwveuFHHSfvDqehu5pL5",
      "include_colab_link": true
    },
    "kernelspec": {
      "display_name": "Python 3",
      "name": "python3"
    },
    "language_info": {
      "name": "python"
    },
    "accelerator": "GPU"
  },
  "nbformat": 4,
  "nbformat_minor": 0
}