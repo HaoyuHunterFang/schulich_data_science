{
 "cells": [
  {
   "cell_type": "code",
   "execution_count": 1,
   "metadata": {},
   "outputs": [],
   "source": [
    "import numpy as np\n",
    "import pandas as pd\n",
    "from scipy import stats\n",
    "import seaborn as sns"
   ]
  },
  {
   "cell_type": "code",
   "execution_count": 2,
   "metadata": {},
   "outputs": [],
   "source": [
    "df = pd.read_csv('https://raw.githubusercontent.com/HaoyuHunterFang/schulich_data_science/main/experiment_dataset.csv')"
   ]
  },
  {
   "cell_type": "code",
   "execution_count": 4,
   "metadata": {},
   "outputs": [
    {
     "name": "stdout",
     "output_type": "stream",
     "text": [
      "<class 'pandas.core.frame.DataFrame'>\n",
      "RangeIndex: 1000 entries, 0 to 999\n",
      "Data columns (total 7 columns):\n",
      " #   Column      Non-Null Count  Dtype  \n",
      "---  ------      --------------  -----  \n",
      " 0   Unnamed: 0  1000 non-null   int64  \n",
      " 1   Age         1000 non-null   int64  \n",
      " 2   Location    1000 non-null   object \n",
      " 3   Device      1000 non-null   object \n",
      " 4   Variant     1000 non-null   object \n",
      " 5   Time Spent  1000 non-null   float64\n",
      " 6   CTR         1000 non-null   float64\n",
      "dtypes: float64(2), int64(2), object(3)\n",
      "memory usage: 54.8+ KB\n"
     ]
    }
   ],
   "source": [
    "#Checking data information if there is needs to clean data.\n",
    "df.info()"
   ]
  },
  {
   "cell_type": "code",
   "execution_count": 35,
   "metadata": {},
   "outputs": [],
   "source": [
    "##Question 1:\n",
    "##Split into 3 groups, they are control group, Variant A group, and Variant B group.\n",
    "ctr_group_ctr = df[df['Variant'] == 'Control']['CTR']\n",
    "ctr_group_time = df[df['Variant'] == 'Control']['Time Spent']\n",
    "varA_group_ctr = df[df['Variant'] == 'Variant A']['CTR']\n",
    "varA_group_time = df[df['Variant'] == 'Variant A']['Time Spent']\n",
    "varB_group_ctr = df[df['Variant'] == 'Variant B']['CTR']\n",
    "varB_group_time = df[df['Variant'] == 'Variant B']['Time Spent']\n"
   ]
  },
  {
   "cell_type": "code",
   "execution_count": 36,
   "metadata": {},
   "outputs": [],
   "source": [
    "#Getting mean values of CTR from three different groups. The reason to calculate mean values\n",
    "##from each group is to find which one result lift.\n",
    "mean_ctr_control = ctr_group_ctr.mean()\n",
    "mean_ctr_varA = varA_group_ctr.mean()\n",
    "mean_ctr_varB = varB_group_ctr.mean()"
   ]
  },
  {
   "cell_type": "code",
   "execution_count": 62,
   "metadata": {},
   "outputs": [
    {
     "name": "stdout",
     "output_type": "stream",
     "text": [
      "mean of CTR of control group is  0.09855415286485454 \n",
      " mean of CTR of variant A group is  0.12026949300288214 \n",
      " mean of CTR of variant B group is  0.1089330399532712\n"
     ]
    }
   ],
   "source": [
    "#Print out the results, it reveals that mean of control group has the highest CTR.\n",
    "print('mean of CTR of control group is ', mean_ctr_control,'\\n',\n",
    "      'mean of CTR of variant A group is ', mean_ctr_varA,'\\n',\n",
    "      'mean of CTR of variant B group is ', mean_ctr_varB)"
   ]
  },
  {
   "cell_type": "code",
   "execution_count": 38,
   "metadata": {},
   "outputs": [],
   "source": [
    "#Getting mean values of Time Spent from three different groups\n",
    "mean_time_control = ctr_group_time.mean()\n",
    "mean_time_varA = varA_group_time.mean()\n",
    "mean_time_varB = varB_group_time.mean()"
   ]
  },
  {
   "cell_type": "code",
   "execution_count": 39,
   "metadata": {},
   "outputs": [
    {
     "name": "stdout",
     "output_type": "stream",
     "text": [
      "mean of Time Spent of control group is  20.070781011176855 \n",
      " mean of Time Spent of variant A group is  24.805547386576052 \n",
      " mean of Time Spent of variant B group is  23.343782979234575 \n",
      "\n"
     ]
    }
   ],
   "source": [
    "#Print out the results, it reveals that mean of variant B group has the highest CTR.\n",
    "print('mean of Time Spent of control group is ', mean_time_control,'\\n',\n",
    "      'mean of Time Spent of variant A group is ', mean_time_varA,'\\n',\n",
    "      'mean of Time Spent of variant B group is ', mean_time_varB,'\\n')"
   ]
  },
  {
   "cell_type": "code",
   "execution_count": 60,
   "metadata": {},
   "outputs": [
    {
     "name": "stdout",
     "output_type": "stream",
     "text": [
      "T-statistic: -13.829424737499187\n",
      "P-value: 1.9602781373243157e-38\n"
     ]
    }
   ],
   "source": [
    "##Question 2\n",
    "## State Hyphothesis:\n",
    "#H0 = There is no significant difference between the CTR means of A and Control\n",
    "## Calculate T-test and P-value of CTR between Control group and Variant A group\n",
    "t_stat_ctr_a, p_val_ctr_a = stats.ttest_ind(ctr_group_ctr,varA_group_ctr)\n",
    "print(f\"T-statistic: {t_stat_ctr_a}\")\n",
    "print(f\"P-value: {p_val_ctr_a}\")"
   ]
  },
  {
   "cell_type": "code",
   "execution_count": 61,
   "metadata": {},
   "outputs": [
    {
     "name": "stdout",
     "output_type": "stream",
     "text": [
      "T-statistic: -6.4718143491783255\n",
      "P-value: 1.8743198199982106e-10\n"
     ]
    }
   ],
   "source": [
    "## State Hyphothesis:\n",
    "#H0 = There is no significant difference between the CTR means of B and Control\n",
    "## Calculate T-test and P-value of CTR between Control group and Variant B group\n",
    "t_stat_ctr_b, p_val_ctr_b = stats.ttest_ind(ctr_group_ctr, varB_group_ctr)\n",
    "print(f\"T-statistic: {t_stat_ctr_b}\")\n",
    "print(f\"P-value: {p_val_ctr_b}\")"
   ]
  },
  {
   "cell_type": "code",
   "execution_count": 58,
   "metadata": {},
   "outputs": [
    {
     "name": "stdout",
     "output_type": "stream",
     "text": [
      "T-statistic: -13.829424737499187\n",
      "P-value: 1.9602781373243157e-38\n"
     ]
    }
   ],
   "source": [
    "## State Hyphothesis:\n",
    "#H0 = There is no significant difference between the Time Spent means of A and Control\n",
    "#Calculate T-test and P-value of Time Spent between control and variant A group\n",
    "t_stat_time_a, p_val_time_a = stats.ttest_ind(ctr_group_ctr,varA_group_ctr)\n",
    "print(f\"T-statistic: {t_stat_time_a}\")\n",
    "print(f\"P-value: {p_val_time_a}\")"
   ]
  },
  {
   "cell_type": "code",
   "execution_count": 59,
   "metadata": {},
   "outputs": [
    {
     "name": "stdout",
     "output_type": "stream",
     "text": [
      "T-statistic: -6.4718143491783255\n",
      "P-value: 1.8743198199982106e-10\n"
     ]
    }
   ],
   "source": [
    "## State Hyphothesis:\n",
    "#H0 = There is no significant difference between the Time Spent means of B and Control\n",
    "#Calculate T-test and P-value of Time Spent between control and variant B group\n",
    "t_stat_time_b, p_val_time_b = stats.ttest_ind(ctr_group_ctr,varB_group_ctr)\n",
    "print(f\"T-statistic: {t_stat_time_b}\")\n",
    "print(f\"P-value: {p_val_time_b}\")"
   ]
  },
  {
   "attachments": {},
   "cell_type": "markdown",
   "metadata": {},
   "source": [
    "Qeustion 3:\n",
    "The results show that whether both Variant A or Varient B have higher mean values for CTR and Time Spent compared to the Control group. It is concluded their negative T-statistic values. Additionally, All p-values are smaller than 0.05, so both Varient A and B have statistically significant difference for CTR and Time spent. \n",
    "Based on the values of T-statistic, we can see that Control Group and Variant A have smaller number, so the performance of Variant A are more higher than Variant B.\n",
    "\n",
    "Since the other factors are not considered, the enginnering team can focus on developing Varient A and B; at the same time, they need to analyze in real-time to ensure the reliability of the results. Therefore, the engineering team can get the accurate result in the future. \n",
    "\n",
    "Question 4:\n",
    "Variant A and Variant B have a potential and huge advantage to compete with Control Varient, as both their CTR and Time Spent are impressively higher than it. The Control Variant has been failed through comparing with the other two variants, so the new function of these futures are necessary to apply into our existing products/services. In this way, CTR and Time Spent will be improved.\n",
    "Once they apply into our products/services, the real-time monitor and maintainance are necessary to measure their feasibility, so it is essential to arrange related-employees to collect CTR and Time Spent."
   ]
  }
 ],
 "metadata": {
  "kernelspec": {
   "display_name": "Python 3",
   "language": "python",
   "name": "python3"
  },
  "language_info": {
   "codemirror_mode": {
    "name": "ipython",
    "version": 3
   },
   "file_extension": ".py",
   "mimetype": "text/x-python",
   "name": "python",
   "nbconvert_exporter": "python",
   "pygments_lexer": "ipython3",
   "version": "3.9.6"
  },
  "orig_nbformat": 4
 },
 "nbformat": 4,
 "nbformat_minor": 2
}
