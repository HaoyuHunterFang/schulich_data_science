{
 "cells": [
  {
   "cell_type": "code",
   "execution_count": 1,
   "metadata": {},
   "outputs": [
    {
     "name": "stderr",
     "output_type": "stream",
     "text": [
      "/Users/houhiroshisakai/Library/Python/3.9/lib/python/site-packages/urllib3/__init__.py:34: NotOpenSSLWarning: urllib3 v2.0 only supports OpenSSL 1.1.1+, currently the 'ssl' module is compiled with 'LibreSSL 2.8.3'. See: https://github.com/urllib3/urllib3/issues/3020\n",
      "  warnings.warn(\n"
     ]
    }
   ],
   "source": [
    "import pandas as pd\n",
    "import tensorflow as tf\n",
    "import numpy as np\n",
    "import matplotlib as plt"
   ]
  },
  {
   "cell_type": "code",
   "execution_count": 2,
   "metadata": {},
   "outputs": [
    {
     "name": "stdout",
     "output_type": "stream",
     "text": [
      "Defaulting to user installation because normal site-packages is not writeable\n",
      "Requirement already satisfied: tensorflow_datasets in /Users/houhiroshisakai/Library/Python/3.9/lib/python/site-packages (4.9.3)\n",
      "Requirement already satisfied: absl-py in /Users/houhiroshisakai/Library/Python/3.9/lib/python/site-packages (from tensorflow_datasets) (1.4.0)\n",
      "Requirement already satisfied: array-record in /Users/houhiroshisakai/Library/Python/3.9/lib/python/site-packages (from tensorflow_datasets) (0.4.1)\n",
      "Requirement already satisfied: click in /Users/houhiroshisakai/Library/Python/3.9/lib/python/site-packages (from tensorflow_datasets) (8.1.7)\n",
      "Requirement already satisfied: dm-tree in /Users/houhiroshisakai/Library/Python/3.9/lib/python/site-packages (from tensorflow_datasets) (0.1.8)\n",
      "Requirement already satisfied: etils[enp,epath,etree]>=0.9.0 in /Users/houhiroshisakai/Library/Python/3.9/lib/python/site-packages (from tensorflow_datasets) (1.5.2)\n",
      "Requirement already satisfied: numpy in /Users/houhiroshisakai/Library/Python/3.9/lib/python/site-packages (from tensorflow_datasets) (1.24.3)\n",
      "Requirement already satisfied: promise in /Users/houhiroshisakai/Library/Python/3.9/lib/python/site-packages (from tensorflow_datasets) (2.3)\n",
      "Requirement already satisfied: protobuf>=3.20 in /Users/houhiroshisakai/Library/Python/3.9/lib/python/site-packages (from tensorflow_datasets) (3.20.3)\n",
      "Requirement already satisfied: psutil in /Users/houhiroshisakai/Library/Python/3.9/lib/python/site-packages (from tensorflow_datasets) (5.9.5)\n",
      "Requirement already satisfied: requests>=2.19.0 in /Users/houhiroshisakai/Library/Python/3.9/lib/python/site-packages (from tensorflow_datasets) (2.31.0)\n",
      "Requirement already satisfied: tensorflow-metadata in /Users/houhiroshisakai/Library/Python/3.9/lib/python/site-packages (from tensorflow_datasets) (1.14.0)\n",
      "Requirement already satisfied: termcolor in /Users/houhiroshisakai/Library/Python/3.9/lib/python/site-packages (from tensorflow_datasets) (2.3.0)\n",
      "Requirement already satisfied: toml in /Users/houhiroshisakai/Library/Python/3.9/lib/python/site-packages (from tensorflow_datasets) (0.10.2)\n",
      "Requirement already satisfied: tqdm in /Users/houhiroshisakai/Library/Python/3.9/lib/python/site-packages (from tensorflow_datasets) (4.66.1)\n",
      "Requirement already satisfied: wrapt in /Users/houhiroshisakai/Library/Python/3.9/lib/python/site-packages (from tensorflow_datasets) (1.14.1)\n",
      "Requirement already satisfied: fsspec in /Users/houhiroshisakai/Library/Python/3.9/lib/python/site-packages (from etils[enp,epath,etree]>=0.9.0->tensorflow_datasets) (2023.10.0)\n",
      "Requirement already satisfied: importlib_resources in /Users/houhiroshisakai/Library/Python/3.9/lib/python/site-packages (from etils[enp,epath,etree]>=0.9.0->tensorflow_datasets) (5.12.0)\n",
      "Requirement already satisfied: typing_extensions in /Users/houhiroshisakai/Library/Python/3.9/lib/python/site-packages (from etils[enp,epath,etree]>=0.9.0->tensorflow_datasets) (4.5.0)\n",
      "Requirement already satisfied: zipp in /Users/houhiroshisakai/Library/Python/3.9/lib/python/site-packages (from etils[enp,epath,etree]>=0.9.0->tensorflow_datasets) (3.15.0)\n",
      "Requirement already satisfied: charset-normalizer<4,>=2 in /Users/houhiroshisakai/Library/Python/3.9/lib/python/site-packages (from requests>=2.19.0->tensorflow_datasets) (3.2.0)\n",
      "Requirement already satisfied: idna<4,>=2.5 in /Users/houhiroshisakai/Library/Python/3.9/lib/python/site-packages (from requests>=2.19.0->tensorflow_datasets) (3.4)\n",
      "Requirement already satisfied: urllib3<3,>=1.21.1 in /Users/houhiroshisakai/Library/Python/3.9/lib/python/site-packages (from requests>=2.19.0->tensorflow_datasets) (2.0.4)\n",
      "Requirement already satisfied: certifi>=2017.4.17 in /Users/houhiroshisakai/Library/Python/3.9/lib/python/site-packages (from requests>=2.19.0->tensorflow_datasets) (2023.7.22)\n",
      "Requirement already satisfied: six in /Library/Developer/CommandLineTools/Library/Frameworks/Python3.framework/Versions/3.9/lib/python3.9/site-packages (from promise->tensorflow_datasets) (1.15.0)\n",
      "Requirement already satisfied: googleapis-common-protos<2,>=1.52.0 in /Users/houhiroshisakai/Library/Python/3.9/lib/python/site-packages (from tensorflow-metadata->tensorflow_datasets) (1.61.0)\n",
      "\n",
      "\u001b[1m[\u001b[0m\u001b[34;49mnotice\u001b[0m\u001b[1;39;49m]\u001b[0m\u001b[39;49m A new release of pip is available: \u001b[0m\u001b[31;49m23.2.1\u001b[0m\u001b[39;49m -> \u001b[0m\u001b[32;49m23.3.1\u001b[0m\n",
      "\u001b[1m[\u001b[0m\u001b[34;49mnotice\u001b[0m\u001b[1;39;49m]\u001b[0m\u001b[39;49m To update, run: \u001b[0m\u001b[32;49m/Library/Developer/CommandLineTools/usr/bin/python3 -m pip install --upgrade pip\u001b[0m\n",
      "Note: you may need to restart the kernel to use updated packages.\n"
     ]
    }
   ],
   "source": [
    "pip install tensorflow_datasets"
   ]
  },
  {
   "cell_type": "code",
   "execution_count": 3,
   "metadata": {},
   "outputs": [
    {
     "name": "stderr",
     "output_type": "stream",
     "text": [
      "/Users/houhiroshisakai/Library/Python/3.9/lib/python/site-packages/tqdm/auto.py:21: TqdmWarning: IProgress not found. Please update jupyter and ipywidgets. See https://ipywidgets.readthedocs.io/en/stable/user_install.html\n",
      "  from .autonotebook import tqdm as notebook_tqdm\n"
     ]
    }
   ],
   "source": [
    "import tensorflow_datasets as tfds"
   ]
  },
  {
   "cell_type": "code",
   "execution_count": 4,
   "metadata": {},
   "outputs": [],
   "source": [
    "(train, test) = tfds.load('mnist',\n",
    "                                split = ['train','test'])"
   ]
  },
  {
   "cell_type": "code",
   "execution_count": 5,
   "metadata": {},
   "outputs": [
    {
     "data": {
      "text/plain": [
       "<_PrefetchDataset element_spec={'image': TensorSpec(shape=(28, 28, 1), dtype=tf.uint8, name=None), 'label': TensorSpec(shape=(), dtype=tf.int64, name=None)}>"
      ]
     },
     "execution_count": 5,
     "metadata": {},
     "output_type": "execute_result"
    }
   ],
   "source": [
    "train"
   ]
  },
  {
   "cell_type": "code",
   "execution_count": 6,
   "metadata": {},
   "outputs": [
    {
     "data": {
      "text/plain": [
       "<_PrefetchDataset element_spec={'image': TensorSpec(shape=(28, 28, 1), dtype=tf.uint8, name=None), 'label': TensorSpec(shape=(), dtype=tf.int64, name=None)}>"
      ]
     },
     "execution_count": 6,
     "metadata": {},
     "output_type": "execute_result"
    }
   ],
   "source": [
    "test"
   ]
  },
  {
   "cell_type": "code",
   "execution_count": 7,
   "metadata": {},
   "outputs": [],
   "source": [
    "from sklearn.preprocessing import StandardScaler, OneHotEncoder"
   ]
  },
  {
   "cell_type": "code",
   "execution_count": 8,
   "metadata": {},
   "outputs": [],
   "source": [
    "from sklearn.preprocessing import StandardScaler\n",
    "from sklearn.preprocessing import OneHotEncoder\n",
    "def load_dataset(train_size, test_size):\n",
    "    train, test = tf.keras.datasets.mnist.load_data()\n",
    "\n",
    "    # take a sample\n",
    "    train_idx = np.random.randint(low=0, high=train[0].shape[0], size=train_size)\n",
    "    test_idx = np.random.randint(low=0, high=test[0].shape[0], size=test_size)\n",
    "    X_train = train[0][train_idx].reshape(-1,28*28)\n",
    "    y_train = train[1][train_idx].reshape(-1,1)\n",
    "    X_test = test[0][test_idx].reshape(-1,28*28)\n",
    "    y_test = test[1][test_idx].reshape(-1,1)\n",
    "    \n",
    "    scale = StandardScaler()\n",
    "    X_train = scale.fit_transform(X_train)\n",
    "    X_test = scale.transform(X_test)\n",
    "\n",
    "    OH = OneHotEncoder(categories='auto', sparse=False)\n",
    "    y_train = OH.fit_transform(y_train)\n",
    "    y_test = OH.transform(y_test)\n",
    "\n",
    "    print('X_train:',X_train.shape)\n",
    "    print('y_train:',y_train.shape)\n",
    "    print('X_test:',X_test.shape)\n",
    "    print('y_test:',y_test.shape)\n",
    "    print('Min:', X_train.min())\n",
    "    print('Max:', X_train.max())\n",
    "\n",
    "    return X_train, X_test, y_train, y_test"
   ]
  },
  {
   "cell_type": "code",
   "execution_count": 9,
   "metadata": {},
   "outputs": [
    {
     "name": "stdout",
     "output_type": "stream",
     "text": [
      "X_train: (62000, 784)\n",
      "y_train: (62000, 10)\n",
      "X_test: (62000, 784)\n",
      "y_test: (62000, 10)\n",
      "Min: -1.2783020350223417\n",
      "Max: 248.99598390374152\n"
     ]
    },
    {
     "name": "stderr",
     "output_type": "stream",
     "text": [
      "/Users/houhiroshisakai/Library/Python/3.9/lib/python/site-packages/sklearn/preprocessing/_encoders.py:868: FutureWarning: `sparse` was renamed to `sparse_output` in version 1.2 and will be removed in 1.4. `sparse_output` is ignored unless you leave `sparse` to its default value.\n",
      "  warnings.warn(\n"
     ]
    }
   ],
   "source": [
    "X_train, X_test, y_train, y_test = load_dataset(62000,62000)"
   ]
  },
  {
   "cell_type": "markdown",
   "metadata": {},
   "source": [
    "### Optimizing at the initialization stage"
   ]
  },
  {
   "cell_type": "code",
   "execution_count": 10,
   "metadata": {},
   "outputs": [],
   "source": [
    "from tensorflow.keras import layers"
   ]
  },
  {
   "cell_type": "code",
   "execution_count": 11,
   "metadata": {},
   "outputs": [],
   "source": [
    "def simple_model(initializer, activation='relu'):\n",
    "    return tf.keras.Sequential([layers.Dense(32, activation, input_shape = (784,), kernel_initializer = initializer),\n",
    "                                layers.Dense(32, activation, input_shape = (784,), kernel_initializer = initializer),\n",
    "                                layers.Dense(32, activation, input_shape = (784,), kernel_initializer = initializer),\n",
    "                                layers.Dense(32, activation, input_shape = (784,), kernel_initializer = initializer),\n",
    "                                layers.Dense(10, activation = 'softmax', input_shape = (784,), kernel_initializer = initializer)\n",
    "\n",
    "    ])"
   ]
  },
  {
   "cell_type": "code",
   "execution_count": 12,
   "metadata": {},
   "outputs": [
    {
     "name": "stderr",
     "output_type": "stream",
     "text": [
      "WARNING:absl:At this time, the v2.11+ optimizer `tf.keras.optimizers.SGD` runs slowly on M1/M2 Macs, please use the legacy Keras optimizer instead, located at `tf.keras.optimizers.legacy.SGD`.\n"
     ]
    },
    {
     "name": "stdout",
     "output_type": "stream",
     "text": [
      "Epoch 1/10\n"
     ]
    },
    {
     "name": "stderr",
     "output_type": "stream",
     "text": [
      "/Users/houhiroshisakai/Library/Python/3.9/lib/python/site-packages/keras/src/initializers/initializers.py:120: UserWarning: The initializer RandomNormal is unseeded and being called multiple times, which will return identical values each time (even if the initializer is unseeded). Please update your code to provide a seed to the initializer, or avoid using the same initializer instance more than once.\n",
      "  warnings.warn(\n"
     ]
    },
    {
     "name": "stdout",
     "output_type": "stream",
     "text": [
      "20/20 [==============================] - 1s 16ms/step - loss: 2.3028 - accuracy: 0.1085 - val_loss: 2.3027 - val_accuracy: 0.1208\n",
      "Epoch 2/10\n",
      "20/20 [==============================] - 0s 6ms/step - loss: 2.3027 - accuracy: 0.1170 - val_loss: 2.3027 - val_accuracy: 0.1158\n",
      "Epoch 3/10\n",
      "20/20 [==============================] - 0s 6ms/step - loss: 2.3026 - accuracy: 0.1124 - val_loss: 2.3026 - val_accuracy: 0.1145\n",
      "Epoch 4/10\n",
      "20/20 [==============================] - 0s 6ms/step - loss: 2.3026 - accuracy: 0.1115 - val_loss: 2.3025 - val_accuracy: 0.1143\n",
      "Epoch 5/10\n",
      "20/20 [==============================] - 0s 6ms/step - loss: 2.3025 - accuracy: 0.1113 - val_loss: 2.3024 - val_accuracy: 0.1143\n",
      "Epoch 6/10\n",
      "20/20 [==============================] - 0s 6ms/step - loss: 2.3024 - accuracy: 0.1112 - val_loss: 2.3023 - val_accuracy: 0.1143\n",
      "Epoch 7/10\n",
      "20/20 [==============================] - 0s 6ms/step - loss: 2.3024 - accuracy: 0.1112 - val_loss: 2.3023 - val_accuracy: 0.1143\n",
      "Epoch 8/10\n",
      "20/20 [==============================] - 0s 6ms/step - loss: 2.3023 - accuracy: 0.1112 - val_loss: 2.3022 - val_accuracy: 0.1143\n",
      "Epoch 9/10\n",
      "20/20 [==============================] - 0s 6ms/step - loss: 2.3022 - accuracy: 0.1111 - val_loss: 2.3021 - val_accuracy: 0.1143\n",
      "Epoch 10/10\n",
      "20/20 [==============================] - 0s 6ms/step - loss: 2.3022 - accuracy: 0.1111 - val_loss: 2.3021 - val_accuracy: 0.1143\n"
     ]
    },
    {
     "data": {
      "text/plain": [
       "<keras.src.callbacks.History at 0x2c664cd30>"
      ]
     },
     "execution_count": 12,
     "metadata": {},
     "output_type": "execute_result"
    }
   ],
   "source": [
    "init = tf.initializers.random_normal()\n",
    "activate = 'relu'\n",
    "optimizer = tf.keras.optimizers.SGD(learning_rate=0.01)\n",
    "model_normal = simple_model(init, activate)\n",
    "model_normal.compile(optimizer=optimizer, loss='categorical_crossentropy', metrics=['accuracy'])\n",
    "model_normal.fit(X_train, y_train, epochs=10, batch_size=3200, validation_data=(X_test, y_test))"
   ]
  },
  {
   "cell_type": "code",
   "execution_count": 13,
   "metadata": {},
   "outputs": [
    {
     "name": "stderr",
     "output_type": "stream",
     "text": [
      "WARNING:absl:At this time, the v2.11+ optimizer `tf.keras.optimizers.SGD` runs slowly on M1/M2 Macs, please use the legacy Keras optimizer instead, located at `tf.keras.optimizers.legacy.SGD`.\n"
     ]
    },
    {
     "name": "stdout",
     "output_type": "stream",
     "text": [
      "Epoch 1/10\n",
      "20/20 [==============================] - 1s 16ms/step - loss: 2.3026 - accuracy: 0.1095 - val_loss: 2.3025 - val_accuracy: 0.1142\n",
      "Epoch 2/10\n",
      "20/20 [==============================] - 0s 6ms/step - loss: 2.3025 - accuracy: 0.1110 - val_loss: 2.3025 - val_accuracy: 0.1142\n",
      "Epoch 3/10\n",
      "20/20 [==============================] - 0s 6ms/step - loss: 2.3025 - accuracy: 0.1110 - val_loss: 2.3024 - val_accuracy: 0.1142\n",
      "Epoch 4/10\n",
      "20/20 [==============================] - 0s 6ms/step - loss: 2.3024 - accuracy: 0.1110 - val_loss: 2.3023 - val_accuracy: 0.1142\n",
      "Epoch 5/10\n",
      "20/20 [==============================] - 0s 6ms/step - loss: 2.3024 - accuracy: 0.1110 - val_loss: 2.3023 - val_accuracy: 0.1142\n",
      "Epoch 6/10\n",
      "20/20 [==============================] - 0s 6ms/step - loss: 2.3023 - accuracy: 0.1110 - val_loss: 2.3022 - val_accuracy: 0.1142\n",
      "Epoch 7/10\n",
      "20/20 [==============================] - 0s 6ms/step - loss: 2.3023 - accuracy: 0.1110 - val_loss: 2.3022 - val_accuracy: 0.1142\n",
      "Epoch 8/10\n",
      "20/20 [==============================] - 0s 6ms/step - loss: 2.3022 - accuracy: 0.1110 - val_loss: 2.3021 - val_accuracy: 0.1142\n",
      "Epoch 9/10\n",
      "20/20 [==============================] - 0s 6ms/step - loss: 2.3022 - accuracy: 0.1110 - val_loss: 2.3021 - val_accuracy: 0.1142\n",
      "Epoch 10/10\n",
      "20/20 [==============================] - 0s 6ms/step - loss: 2.3021 - accuracy: 0.1110 - val_loss: 2.3020 - val_accuracy: 0.1142\n"
     ]
    },
    {
     "data": {
      "text/plain": [
       "<keras.src.callbacks.History at 0x2c38148b0>"
      ]
     },
     "execution_count": 13,
     "metadata": {},
     "output_type": "execute_result"
    }
   ],
   "source": [
    "init = tf.initializers.zeros()\n",
    "activate = 'relu'\n",
    "optimizer = tf.keras.optimizers.SGD(learning_rate=0.01)\n",
    "model_zeros = simple_model(init, activate)\n",
    "model_zeros.compile(optimizer=optimizer, loss='categorical_crossentropy', metrics=['accuracy'])\n",
    "model_zeros.fit(X_train, y_train, epochs=10, batch_size=3200, validation_data=(X_test, y_test))"
   ]
  },
  {
   "cell_type": "code",
   "execution_count": 14,
   "metadata": {},
   "outputs": [
    {
     "name": "stderr",
     "output_type": "stream",
     "text": [
      "WARNING:absl:At this time, the v2.11+ optimizer `tf.keras.optimizers.SGD` runs slowly on M1/M2 Macs, please use the legacy Keras optimizer instead, located at `tf.keras.optimizers.legacy.SGD`.\n"
     ]
    },
    {
     "name": "stdout",
     "output_type": "stream",
     "text": [
      "Epoch 1/10\n"
     ]
    },
    {
     "name": "stderr",
     "output_type": "stream",
     "text": [
      "/Users/houhiroshisakai/Library/Python/3.9/lib/python/site-packages/keras/src/initializers/initializers.py:120: UserWarning: The initializer GlorotUniform is unseeded and being called multiple times, which will return identical values each time (even if the initializer is unseeded). Please update your code to provide a seed to the initializer, or avoid using the same initializer instance more than once.\n",
      "  warnings.warn(\n"
     ]
    },
    {
     "name": "stdout",
     "output_type": "stream",
     "text": [
      "20/20 [==============================] - 1s 14ms/step - loss: 2.3075 - accuracy: 0.0905 - val_loss: 2.2808 - val_accuracy: 0.1240\n",
      "Epoch 2/10\n",
      "20/20 [==============================] - 0s 6ms/step - loss: 2.2480 - accuracy: 0.1601 - val_loss: 2.2270 - val_accuracy: 0.2083\n",
      "Epoch 3/10\n",
      "20/20 [==============================] - 0s 6ms/step - loss: 2.1960 - accuracy: 0.2408 - val_loss: 2.1769 - val_accuracy: 0.2823\n",
      "Epoch 4/10\n",
      "20/20 [==============================] - 0s 6ms/step - loss: 2.1459 - accuracy: 0.3040 - val_loss: 2.1269 - val_accuracy: 0.3344\n",
      "Epoch 5/10\n",
      "20/20 [==============================] - 0s 6ms/step - loss: 2.0956 - accuracy: 0.3445 - val_loss: 2.0755 - val_accuracy: 0.3751\n",
      "Epoch 6/10\n",
      "20/20 [==============================] - 0s 6ms/step - loss: 2.0435 - accuracy: 0.3787 - val_loss: 2.0213 - val_accuracy: 0.4070\n",
      "Epoch 7/10\n",
      "20/20 [==============================] - 0s 6ms/step - loss: 1.9877 - accuracy: 0.4043 - val_loss: 1.9623 - val_accuracy: 0.4317\n",
      "Epoch 8/10\n",
      "20/20 [==============================] - 0s 6ms/step - loss: 1.9266 - accuracy: 0.4280 - val_loss: 1.8966 - val_accuracy: 0.4518\n",
      "Epoch 9/10\n",
      "20/20 [==============================] - 0s 6ms/step - loss: 1.8585 - accuracy: 0.4487 - val_loss: 1.8235 - val_accuracy: 0.4685\n",
      "Epoch 10/10\n",
      "20/20 [==============================] - 0s 6ms/step - loss: 1.7839 - accuracy: 0.4662 - val_loss: 1.7451 - val_accuracy: 0.4859\n"
     ]
    },
    {
     "data": {
      "text/plain": [
       "<keras.src.callbacks.History at 0x2c3887970>"
      ]
     },
     "execution_count": 14,
     "metadata": {},
     "output_type": "execute_result"
    }
   ],
   "source": [
    "init = tf.initializers.glorot_uniform()\n",
    "activate = 'relu'\n",
    "optimizer = tf.keras.optimizers.SGD(learning_rate=0.01)\n",
    "model_glorotu = simple_model(init, activate)\n",
    "model_glorotu.compile(optimizer=optimizer, loss='categorical_crossentropy', metrics=['accuracy'])\n",
    "model_glorotu.fit(X_train, y_train, epochs=10, batch_size=3200, validation_data=(X_test, y_test))"
   ]
  },
  {
   "cell_type": "code",
   "execution_count": 15,
   "metadata": {},
   "outputs": [
    {
     "name": "stderr",
     "output_type": "stream",
     "text": [
      "WARNING:absl:At this time, the v2.11+ optimizer `tf.keras.optimizers.SGD` runs slowly on M1/M2 Macs, please use the legacy Keras optimizer instead, located at `tf.keras.optimizers.legacy.SGD`.\n"
     ]
    },
    {
     "name": "stdout",
     "output_type": "stream",
     "text": [
      "Epoch 1/10\n"
     ]
    },
    {
     "name": "stderr",
     "output_type": "stream",
     "text": [
      "/Users/houhiroshisakai/Library/Python/3.9/lib/python/site-packages/keras/src/initializers/initializers.py:120: UserWarning: The initializer HeUniform is unseeded and being called multiple times, which will return identical values each time (even if the initializer is unseeded). Please update your code to provide a seed to the initializer, or avoid using the same initializer instance more than once.\n",
      "  warnings.warn(\n"
     ]
    },
    {
     "name": "stdout",
     "output_type": "stream",
     "text": [
      "20/20 [==============================] - 1s 14ms/step - loss: 2.5643 - accuracy: 0.1782 - val_loss: 2.2537 - val_accuracy: 0.2594\n",
      "Epoch 2/10\n",
      "20/20 [==============================] - 0s 6ms/step - loss: 2.0873 - accuracy: 0.3068 - val_loss: 1.9399 - val_accuracy: 0.3663\n",
      "Epoch 3/10\n",
      "20/20 [==============================] - 0s 6ms/step - loss: 1.8278 - accuracy: 0.4014 - val_loss: 1.7198 - val_accuracy: 0.4544\n",
      "Epoch 4/10\n",
      "20/20 [==============================] - 0s 6ms/step - loss: 1.6343 - accuracy: 0.4781 - val_loss: 1.5487 - val_accuracy: 0.5270\n",
      "Epoch 5/10\n",
      "20/20 [==============================] - 0s 6ms/step - loss: 1.4813 - accuracy: 0.5399 - val_loss: 1.4138 - val_accuracy: 0.5787\n",
      "Epoch 6/10\n",
      "20/20 [==============================] - 0s 7ms/step - loss: 1.3573 - accuracy: 0.5891 - val_loss: 1.3023 - val_accuracy: 0.6171\n",
      "Epoch 7/10\n",
      "20/20 [==============================] - 0s 7ms/step - loss: 1.2520 - accuracy: 0.6306 - val_loss: 1.2040 - val_accuracy: 0.6501\n",
      "Epoch 8/10\n",
      "20/20 [==============================] - 0s 7ms/step - loss: 1.1580 - accuracy: 0.6672 - val_loss: 1.1146 - val_accuracy: 0.6843\n",
      "Epoch 9/10\n",
      "20/20 [==============================] - 0s 6ms/step - loss: 1.0712 - accuracy: 0.6997 - val_loss: 1.0318 - val_accuracy: 0.7130\n",
      "Epoch 10/10\n",
      "20/20 [==============================] - 0s 7ms/step - loss: 0.9902 - accuracy: 0.7232 - val_loss: 0.9562 - val_accuracy: 0.7378\n"
     ]
    },
    {
     "data": {
      "text/plain": [
       "<keras.src.callbacks.History at 0x2c38ddc10>"
      ]
     },
     "execution_count": 15,
     "metadata": {},
     "output_type": "execute_result"
    }
   ],
   "source": [
    "init = tf.initializers.he_uniform()\n",
    "activate = 'relu'\n",
    "optimizer = tf.keras.optimizers.SGD(learning_rate=0.01)\n",
    "model_heu = simple_model(init, activate)\n",
    "model_heu.compile(optimizer=optimizer, loss='categorical_crossentropy', metrics=['accuracy'])\n",
    "model_heu.fit(X_train, y_train, epochs=10, batch_size=3200, validation_data=(X_test, y_test))"
   ]
  },
  {
   "cell_type": "code",
   "execution_count": 18,
   "metadata": {},
   "outputs": [
    {
     "data": {
      "text/plain": [
       "Text(0, 0.5, 'Validation Accuracy')"
      ]
     },
     "execution_count": 18,
     "metadata": {},
     "output_type": "execute_result"
    },
    {
     "data": {
      "image/png": "[encoded data removed]",
      "text/plain": [
       "<Figure size 640x480 with 1 Axes>"
      ]
     },
     "metadata": {},
     "output_type": "display_data"
    }
   ],
   "source": [
    "import matplotlib.pyplot as plt\n",
    "for i in [model_heu, model_normal, model_glorotu, model_zeros]:\n",
    "    plt.plot(i.history.history['val_accuracy'], label=i.get_config()['layers'][1]['config']['kernel_initializer']['class_name'])\n",
    "\n",
    "plt.legend()\n",
    "plt.xlabel('Epoch')\n",
    "plt.ylabel('Validation Accuracy')\n"
   ]
  },
  {
   "cell_type": "code",
   "execution_count": 25,
   "metadata": {},
   "outputs": [
    {
     "name": "stdout",
     "output_type": "stream",
     "text": [
      "Model: \"sequential_4\"\n",
      "_________________________________________________________________\n",
      " Layer (type)                Output Shape              Param #   \n",
      "=================================================================\n",
      " dense_20 (Dense)            (None, 32)                25120     \n",
      "                                                                 \n",
      " batch_normalization (Batch  (None, 32)                128       \n",
      " Normalization)                                                  \n",
      "                                                                 \n",
      " dense_21 (Dense)            (None, 32)                1056      \n",
      "                                                                 \n",
      " batch_normalization_1 (Bat  (None, 32)                128       \n",
      " chNormalization)                                                \n",
      "                                                                 \n",
      " dense_22 (Dense)            (None, 32)                1056      \n",
      "                                                                 \n",
      " batch_normalization_2 (Bat  (None, 32)                128       \n",
      " chNormalization)                                                \n",
      "                                                                 \n",
      " dense_23 (Dense)            (None, 32)                1056      \n",
      "                                                                 \n",
      " batch_normalization_3 (Bat  (None, 32)                128       \n",
      " chNormalization)                                                \n",
      "                                                                 \n",
      " dense_24 (Dense)            (None, 10)                330       \n",
      "                                                                 \n",
      "=================================================================\n",
      "Total params: 29130 (113.79 KB)\n",
      "Trainable params: 28874 (112.79 KB)\n",
      "Non-trainable params: 256 (1.00 KB)\n",
      "_________________________________________________________________\n"
     ]
    }
   ],
   "source": [
    "def simple_model_bn(initializer = 'he_uniform', activation='relu'):\n",
    "    return tf.keras.Sequential([layers.Dense(32, activation, input_shape=(784,), kernel_initializer=initializer),\n",
    "                                layers.BatchNormalization(trainable=True, scale=True, center=True),\n",
    "                                layers.Dense(32, activation, kernel_initializer=initializer),\n",
    "                                layers.BatchNormalization(trainable=True, scale=True, center=True),\n",
    "                                layers.Dense(32, activation, kernel_initializer=initializer),\n",
    "                                layers.BatchNormalization(trainable=True, scale=True, center=True),\n",
    "                                layers.Dense(32, activation, kernel_initializer=initializer),\n",
    "                                layers.BatchNormalization(trainable=True, scale=True, center=True),\n",
    "                                layers.Dense(10, activation = 'softmax', kernel_initializer=tf.keras.initializers.glorot_normal())\n",
    "\n",
    "\n",
    "\n",
    "    ])\n",
    "simple_model_bn().summary()"
   ]
  },
  {
   "cell_type": "code",
   "execution_count": 27,
   "metadata": {},
   "outputs": [
    {
     "name": "stderr",
     "output_type": "stream",
     "text": [
      "WARNING:absl:At this time, the v2.11+ optimizer `tf.keras.optimizers.SGD` runs slowly on M1/M2 Macs, please use the legacy Keras optimizer instead, located at `tf.keras.optimizers.legacy.SGD`.\n"
     ]
    },
    {
     "name": "stdout",
     "output_type": "stream",
     "text": [
      "Epoch 1/10\n",
      "20/20 [==============================] - 1s 22ms/step - loss: 1.9763 - accuracy: 0.3519 - val_loss: 2.2964 - val_accuracy: 0.1303\n",
      "Epoch 2/10\n",
      "20/20 [==============================] - 0s 8ms/step - loss: 1.2654 - accuracy: 0.6079 - val_loss: 2.2860 - val_accuracy: 0.1347\n",
      "Epoch 3/10\n",
      "20/20 [==============================] - 0s 9ms/step - loss: 0.9881 - accuracy: 0.7072 - val_loss: 2.2691 - val_accuracy: 0.1659\n",
      "Epoch 4/10\n",
      "20/20 [==============================] - 0s 11ms/step - loss: 0.8277 - accuracy: 0.7594 - val_loss: 2.2442 - val_accuracy: 0.2109\n",
      "Epoch 5/10\n",
      "20/20 [==============================] - 0s 9ms/step - loss: 0.7232 - accuracy: 0.7922 - val_loss: 2.2099 - val_accuracy: 0.2522\n",
      "Epoch 6/10\n",
      "20/20 [==============================] - 0s 10ms/step - loss: 0.6492 - accuracy: 0.8145 - val_loss: 2.1637 - val_accuracy: 0.2875\n",
      "Epoch 7/10\n",
      "20/20 [==============================] - 0s 10ms/step - loss: 0.5945 - accuracy: 0.8323 - val_loss: 2.1039 - val_accuracy: 0.3522\n",
      "Epoch 8/10\n",
      "20/20 [==============================] - 0s 10ms/step - loss: 0.5508 - accuracy: 0.8449 - val_loss: 2.0293 - val_accuracy: 0.4624\n",
      "Epoch 9/10\n",
      "20/20 [==============================] - 0s 10ms/step - loss: 0.5150 - accuracy: 0.8553 - val_loss: 1.9380 - val_accuracy: 0.5946\n",
      "Epoch 10/10\n",
      "20/20 [==============================] - 0s 10ms/step - loss: 0.4859 - accuracy: 0.8639 - val_loss: 1.8285 - val_accuracy: 0.7025\n"
     ]
    },
    {
     "data": {
      "text/plain": [
       "<keras.src.callbacks.History at 0x2d2fe8640>"
      ]
     },
     "execution_count": 27,
     "metadata": {},
     "output_type": "execute_result"
    }
   ],
   "source": [
    "init = tf.keras.initializers.random_normal()\n",
    "activate = 'relu'\n",
    "\n",
    "optimizer = tf.keras.optimizers.SGD(0.01)\n",
    "model_bn = simple_model_bn(init,activate)\n",
    "model_bn.compile(optimizer=optimizer, loss='categorical_crossentropy',metrics=['accuracy'])\n",
    "model_bn.fit(X_train,y_train,epochs = 10, batch_size = 3200, validation_data = (X_test, y_test))"
   ]
  },
  {
   "cell_type": "code",
   "execution_count": 28,
   "metadata": {},
   "outputs": [
    {
     "name": "stderr",
     "output_type": "stream",
     "text": [
      "WARNING:absl:At this time, the v2.11+ optimizer `tf.keras.optimizers.Adagrad` runs slowly on M1/M2 Macs, please use the legacy Keras optimizer instead, located at `tf.keras.optimizers.legacy.Adagrad`.\n",
      "/Users/houhiroshisakai/Library/Python/3.9/lib/python/site-packages/keras/src/initializers/initializers.py:120: UserWarning: The initializer RandomUniform is unseeded and being called multiple times, which will return identical values each time (even if the initializer is unseeded). Please update your code to provide a seed to the initializer, or avoid using the same initializer instance more than once.\n",
      "  warnings.warn(\n"
     ]
    },
    {
     "name": "stdout",
     "output_type": "stream",
     "text": [
      "Epoch 1/10\n",
      "20/20 [==============================] - 1s 25ms/step - loss: 1.1700 - accuracy: 0.6413 - val_loss: 2.2974 - val_accuracy: 0.1857\n",
      "Epoch 2/10\n",
      "20/20 [==============================] - 0s 9ms/step - loss: 0.5039 - accuracy: 0.8667 - val_loss: 2.2924 - val_accuracy: 0.1674\n",
      "Epoch 3/10\n",
      "20/20 [==============================] - 0s 9ms/step - loss: 0.3799 - accuracy: 0.9005 - val_loss: 2.2858 - val_accuracy: 0.1229\n",
      "Epoch 4/10\n",
      "20/20 [==============================] - 0s 9ms/step - loss: 0.3158 - accuracy: 0.9169 - val_loss: 2.2774 - val_accuracy: 0.1471\n",
      "Epoch 5/10\n",
      "20/20 [==============================] - 0s 9ms/step - loss: 0.2742 - accuracy: 0.9278 - val_loss: 2.2650 - val_accuracy: 0.1598\n",
      "Epoch 6/10\n",
      "20/20 [==============================] - 0s 9ms/step - loss: 0.2445 - accuracy: 0.9360 - val_loss: 2.2478 - val_accuracy: 0.2247\n",
      "Epoch 7/10\n",
      "20/20 [==============================] - 0s 9ms/step - loss: 0.2217 - accuracy: 0.9417 - val_loss: 2.2243 - val_accuracy: 0.2787\n",
      "Epoch 8/10\n",
      "20/20 [==============================] - 0s 9ms/step - loss: 0.2038 - accuracy: 0.9473 - val_loss: 2.1918 - val_accuracy: 0.3320\n",
      "Epoch 9/10\n",
      "20/20 [==============================] - 0s 9ms/step - loss: 0.1898 - accuracy: 0.9505 - val_loss: 2.1495 - val_accuracy: 0.3913\n",
      "Epoch 10/10\n",
      "20/20 [==============================] - 0s 9ms/step - loss: 0.1767 - accuracy: 0.9540 - val_loss: 2.0951 - val_accuracy: 0.4811\n"
     ]
    },
    {
     "data": {
      "text/plain": [
       "<keras.src.callbacks.History at 0x2d15b29a0>"
      ]
     },
     "execution_count": 28,
     "metadata": {},
     "output_type": "execute_result"
    }
   ],
   "source": [
    "init = tf.keras.initializers.random_uniform()\n",
    "activate = 'relu'\n",
    "\n",
    "optimizer = tf.keras.optimizers.Adagrad(0.01)\n",
    "model_bn_ad = simple_model_bn(init,activate)\n",
    "model_bn_ad.compile(optimizer=optimizer, loss='categorical_crossentropy',metrics=['accuracy'])\n",
    "model_bn_ad.fit(X_train,y_train,epochs = 10, batch_size = 3200, validation_data = (X_test, y_test))"
   ]
  },
  {
   "cell_type": "code",
   "execution_count": 29,
   "metadata": {},
   "outputs": [
    {
     "name": "stderr",
     "output_type": "stream",
     "text": [
      "WARNING:absl:At this time, the v2.11+ optimizer `tf.keras.optimizers.Adam` runs slowly on M1/M2 Macs, please use the legacy Keras optimizer instead, located at `tf.keras.optimizers.legacy.Adam`.\n",
      "/Users/houhiroshisakai/Library/Python/3.9/lib/python/site-packages/keras/src/initializers/initializers.py:120: UserWarning: The initializer RandomUniform is unseeded and being called multiple times, which will return identical values each time (even if the initializer is unseeded). Please update your code to provide a seed to the initializer, or avoid using the same initializer instance more than once.\n",
      "  warnings.warn(\n"
     ]
    },
    {
     "name": "stdout",
     "output_type": "stream",
     "text": [
      "Epoch 1/10\n",
      "20/20 [==============================] - 1s 22ms/step - loss: 0.9336 - accuracy: 0.7151 - val_loss: 2.1534 - val_accuracy: 0.3369\n",
      "Epoch 2/10\n",
      "20/20 [==============================] - 0s 10ms/step - loss: 0.2622 - accuracy: 0.9244 - val_loss: 1.8875 - val_accuracy: 0.5165\n",
      "Epoch 3/10\n",
      "20/20 [==============================] - 0s 9ms/step - loss: 0.1672 - accuracy: 0.9512 - val_loss: 1.6840 - val_accuracy: 0.6172\n",
      "Epoch 4/10\n",
      "20/20 [==============================] - 0s 11ms/step - loss: 0.1252 - accuracy: 0.9638 - val_loss: 1.4992 - val_accuracy: 0.7426\n",
      "Epoch 5/10\n",
      "20/20 [==============================] - 0s 10ms/step - loss: 0.0987 - accuracy: 0.9708 - val_loss: 1.2963 - val_accuracy: 0.7881\n",
      "Epoch 6/10\n",
      "20/20 [==============================] - 0s 10ms/step - loss: 0.0795 - accuracy: 0.9771 - val_loss: 1.0746 - val_accuracy: 0.8575\n",
      "Epoch 7/10\n",
      "20/20 [==============================] - 0s 9ms/step - loss: 0.0659 - accuracy: 0.9810 - val_loss: 0.8723 - val_accuracy: 0.8821\n",
      "Epoch 8/10\n",
      "20/20 [==============================] - 0s 9ms/step - loss: 0.0571 - accuracy: 0.9832 - val_loss: 0.6874 - val_accuracy: 0.9141\n",
      "Epoch 9/10\n",
      "20/20 [==============================] - 0s 11ms/step - loss: 0.0487 - accuracy: 0.9853 - val_loss: 0.4934 - val_accuracy: 0.9309\n",
      "Epoch 10/10\n",
      "20/20 [==============================] - 0s 11ms/step - loss: 0.0442 - accuracy: 0.9871 - val_loss: 0.3569 - val_accuracy: 0.9421\n"
     ]
    },
    {
     "data": {
      "text/plain": [
       "<keras.src.callbacks.History at 0x2d16367f0>"
      ]
     },
     "execution_count": 29,
     "metadata": {},
     "output_type": "execute_result"
    }
   ],
   "source": [
    "init = tf.keras.initializers.random_uniform()\n",
    "activate = 'relu'\n",
    "\n",
    "optimizer = tf.keras.optimizers.Adam(0.01)\n",
    "model_bn_adam = simple_model_bn(init,activate)\n",
    "model_bn_adam.compile(optimizer=optimizer, loss='categorical_crossentropy',metrics=['accuracy'])\n",
    "model_bn_adam.fit(X_train,y_train,epochs = 10, batch_size = 3200, validation_data = (X_test, y_test))"
   ]
  },
  {
   "cell_type": "code",
   "execution_count": 30,
   "metadata": {},
   "outputs": [],
   "source": [
    "from tensorflow.keras.callbacks import EarlyStopping"
   ]
  },
  {
   "cell_type": "code",
   "execution_count": 31,
   "metadata": {},
   "outputs": [
    {
     "name": "stderr",
     "output_type": "stream",
     "text": [
      "WARNING:absl:At this time, the v2.11+ optimizer `tf.keras.optimizers.Adam` runs slowly on M1/M2 Macs, please use the legacy Keras optimizer instead, located at `tf.keras.optimizers.legacy.Adam`.\n",
      "/Users/houhiroshisakai/Library/Python/3.9/lib/python/site-packages/keras/src/initializers/initializers.py:120: UserWarning: The initializer RandomUniform is unseeded and being called multiple times, which will return identical values each time (even if the initializer is unseeded). Please update your code to provide a seed to the initializer, or avoid using the same initializer instance more than once.\n",
      "  warnings.warn(\n"
     ]
    },
    {
     "name": "stdout",
     "output_type": "stream",
     "text": [
      "Epoch 1/10\n",
      "20/20 [==============================] - 2s 23ms/step - loss: 0.9343 - accuracy: 0.7138 - val_loss: 2.0771 - val_accuracy: 0.2620\n",
      "Epoch 2/10\n",
      "20/20 [==============================] - 0s 9ms/step - loss: 0.2676 - accuracy: 0.9224 - val_loss: 1.8166 - val_accuracy: 0.4778\n",
      "Epoch 3/10\n",
      "20/20 [==============================] - 0s 9ms/step - loss: 0.1764 - accuracy: 0.9479 - val_loss: 1.6330 - val_accuracy: 0.5627\n",
      "Epoch 4/10\n",
      "20/20 [==============================] - 0s 9ms/step - loss: 0.1340 - accuracy: 0.9608 - val_loss: 1.4941 - val_accuracy: 0.6488\n",
      "Epoch 5/10\n",
      "20/20 [==============================] - 0s 9ms/step - loss: 0.1080 - accuracy: 0.9678 - val_loss: 1.2593 - val_accuracy: 0.7898\n",
      "Epoch 6/10\n",
      "20/20 [==============================] - 0s 10ms/step - loss: 0.0899 - accuracy: 0.9735 - val_loss: 1.0147 - val_accuracy: 0.8885\n",
      "Epoch 7/10\n",
      "20/20 [==============================] - 0s 10ms/step - loss: 0.0742 - accuracy: 0.9785 - val_loss: 0.7596 - val_accuracy: 0.9042\n",
      "Epoch 8/10\n",
      "20/20 [==============================] - 0s 10ms/step - loss: 0.0625 - accuracy: 0.9815 - val_loss: 0.5829 - val_accuracy: 0.9237\n",
      "Epoch 9/10\n",
      "20/20 [==============================] - 0s 10ms/step - loss: 0.0527 - accuracy: 0.9839 - val_loss: 0.4280 - val_accuracy: 0.9360\n",
      "Epoch 10/10\n",
      "20/20 [==============================] - 0s 10ms/step - loss: 0.0503 - accuracy: 0.9849 - val_loss: 0.3007 - val_accuracy: 0.9449\n",
      "Train Acc: 0.973612904548645 Test Acc: 0.9448709487915039\n"
     ]
    }
   ],
   "source": [
    "init = tf.keras.initializers.random_uniform()\n",
    "activate = 'relu'\n",
    "\n",
    "optimizer = tf.keras.optimizers.Adam(0.01)\n",
    "model_bn_adam = simple_model_bn(init,activate)\n",
    "model_bn_adam.compile(optimizer=optimizer, loss='categorical_crossentropy',metrics=['accuracy'])\n",
    "\n",
    "es = EarlyStopping(monitor = 'val_loss', mode = 'min', patience = 10, restore_best_weights=True, verbose = 1)\n",
    "\n",
    "histroy = model_bn_adam.fit(X_train,y_train,epochs = 10, batch_size = 3200, validation_data = (X_test, y_test))\n",
    "\n",
    "_, train_acc = model_bn_adam.evaluate(X_train, y_train, verbose = 0)\n",
    "_, test_acc = model_bn_adam.evaluate(X_test, y_test, verbose = 0)\n",
    "print('Train Acc:', train_acc, 'Test Acc:', test_acc)\n",
    "\n"
   ]
  },
  {
   "cell_type": "code",
   "execution_count": 32,
   "metadata": {},
   "outputs": [
    {
     "name": "stderr",
     "output_type": "stream",
     "text": [
      "WARNING:absl:At this time, the v2.11+ optimizer `tf.keras.optimizers.Adam` runs slowly on M1/M2 Macs, please use the legacy Keras optimizer instead, located at `tf.keras.optimizers.legacy.Adam`.\n",
      "/Users/houhiroshisakai/Library/Python/3.9/lib/python/site-packages/keras/src/initializers/initializers.py:120: UserWarning: The initializer RandomUniform is unseeded and being called multiple times, which will return identical values each time (even if the initializer is unseeded). Please update your code to provide a seed to the initializer, or avoid using the same initializer instance more than once.\n",
      "  warnings.warn(\n"
     ]
    },
    {
     "name": "stdout",
     "output_type": "stream",
     "text": [
      "Restoring model weights from the end of the best epoch: 13.\n",
      "Epoch 23: early stopping\n",
      "Train Acc: 0.9884032011032104 Test Acc: 0.9614677429199219\n"
     ]
    }
   ],
   "source": [
    "init = tf.keras.initializers.random_uniform()\n",
    "activate = 'relu'\n",
    "\n",
    "optimizer = tf.keras.optimizers.Adam(0.01)\n",
    "model_bn_adam = simple_model_bn(init,activate)\n",
    "model_bn_adam.compile(optimizer=optimizer, loss='categorical_crossentropy',metrics=['accuracy'])\n",
    "\n",
    "es = EarlyStopping(monitor = 'val_loss', mode = 'min', patience = 10, restore_best_weights=True, verbose = 1)\n",
    "\n",
    "histroy = model_bn_adam.fit(X_train,y_train,epochs = 2000, callbacks = [es], validation_data = (X_test, y_test), verbose = 0)\n",
    "\n",
    "_, train_acc = model_bn_adam.evaluate(X_train, y_train, verbose = 0)\n",
    "_, test_acc = model_bn_adam.evaluate(X_test, y_test, verbose = 0)\n",
    "print('Train Acc:', train_acc, 'Test Acc:', test_acc)\n",
    "\n"
   ]
  },
  {
   "cell_type": "code",
   "execution_count": null,
   "metadata": {},
   "outputs": [],
   "source": []
  }
 ],
 "metadata": {
  "kernelspec": {
   "display_name": "Python 3",
   "language": "python",
   "name": "python3"
  },
  "language_info": {
   "codemirror_mode": {
    "name": "ipython",
    "version": 3
   },
   "file_extension": ".py",
   "mimetype": "text/x-python",
   "name": "python",
   "nbconvert_exporter": "python",
   "pygments_lexer": "ipython3",
   "version": "3.9.6"
  }
 },
 "nbformat": 4,
 "nbformat_minor": 2
}
